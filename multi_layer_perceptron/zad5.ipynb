{
  "cells": [
    {
      "cell_type": "markdown",
      "metadata": {
        "collapsed": false,
        "id": "5BPd1IecgTcc"
      },
      "source": [
        "# Zadanie 5\n",
        "\n",
        "\n",
        "Celem ćwiczenia jest implementacja perceptronu wielowarstwowego oraz wybranego algorytmu optymalizacji gradientowej z algorytmem propagacji wstecznej.\n",
        "\n",
        "Następnie należy wytrenować perceptron wielowarstwowy do klasyfikacji zbioru danych [MNIST](http://yann.lecun.com/exdb/mnist/). Zbiór MNIST dostępny jest w pakiecie `scikit-learn`.\n",
        "\n",
        "Punktacja:\n",
        "1. Implementacja propagacji do przodu (`forward`) [1 pkt]\n",
        "2. Implementacja wstecznej propagacji (`backward`) [2 pkt]\n",
        "3. Przeprowadzenie eksperymentów na zbiorze MNIST, w tym:\n",
        "    1. Porównanie co najmniej dwóch architektur sieci [1 pkt]\n",
        "    2. Przetestowanie każdej architektury na conajmniej 3 ziarnach [1 pkt]\n",
        "    3. Wnioski [2.5 pkt]\n",
        "4. Jakość kodu [0.5 pkt]\n",
        "\n",
        "Polecane źródła - teoria + intuicja:\n",
        "1. [Karpathy, CS231n Winter 2016: Lecture 4: Backpropagation, Neural Networks 1](https://www.youtube.com/watch?v=i94OvYb6noo&ab_channel=AndrejKarpathy)\n",
        "2. [3 Blude one Brown, Backpropagation calculus | Chapter 4, Deep learning\n",
        "](https://www.youtube.com/watch?v=tIeHLnjs5U8&t=4s&ab_channel=3Blue1Brown)\n"
      ]
    },
    {
      "cell_type": "code",
      "execution_count": null,
      "metadata": {
        "id": "oNmMDnkRgTcj"
      },
      "outputs": [],
      "source": [
        "from abc import abstractmethod, ABC\n",
        "from typing import List\n",
        "from sklearn.datasets import fetch_openml\n",
        "from sklearn.model_selection import train_test_split\n",
        "from sklearn.preprocessing import OneHotEncoder\n",
        "from typing import Callable, Optional\n",
        "import numpy as np\n",
        "import math\n",
        "import matplotlib.pyplot as plt"
      ]
    },
    {
      "cell_type": "code",
      "execution_count": null,
      "metadata": {
        "id": "NKdRuQW8DnEb"
      },
      "outputs": [],
      "source": [
        "#1. Mean squared error\n",
        "def mse_loss(predicted: np.ndarray, actual: np.ndarray)->float:\n",
        "    \"\"\"\n",
        "    MSE = 1/n * Σ (i=0 -> n) { ( y_pred_i - y_act_i ) ^ 2 }\n",
        "\n",
        "    MSE    -> loss function\n",
        "    n      -> number of samples (int n)\n",
        "    y_pred -> predicted values (arr: [n])\n",
        "    y_act  -> actual values (arr: [n])\n",
        "\n",
        "    MSE output is one number (float)\n",
        "    \"\"\"\n",
        "    loss = float((1 / int(predicted.size)) * np.sum( (predicted - actual) ** 2))\n",
        "    assert type(loss) == float\n",
        "    return loss\n",
        "\n",
        "def mse_loss_derivative(predicted: np.ndarray, actual: np.ndarray)->np.ndarray:\n",
        "    \"\"\"\n",
        "    MSE derivative = ∂MSE / ∂y_pred\n",
        "    MSE' = 2/n * (y_pred - y_act)\n",
        "\n",
        "    MSE' -> derivative of loss function\n",
        "    n      -> number of samples (int n)\n",
        "    y_pred -> predicted values (arr: [n])\n",
        "    y_act  -> actual values (arr: [n])\n",
        "\n",
        "    MSE' output: arr: [n] -> derivative of loss for each input node\n",
        "    \"\"\"\n",
        "    assert predicted.ndim == 1\n",
        "    shape_p = predicted.shape\n",
        "    shape_a = actual.shape\n",
        "    assert shape_p == shape_a\n",
        "\n",
        "    loss_der = (2 / int(predicted.size)) * (predicted - actual)\n",
        "    assert loss_der.shape == shape_a\n",
        "    assert loss_der.ndim == 1\n",
        "\n",
        "    return loss_der"
      ]
    },
    {
      "cell_type": "code",
      "execution_count": null,
      "metadata": {
        "id": "sRDLVksCDKr_"
      },
      "outputs": [],
      "source": [
        "#2. Loss function change.\n",
        "def categorical_cross_entropy(predicted, actual):\n",
        "    \"\"\"Categorical cross-entropy loss function\"\"\"\n",
        "    loss = -np.sum(actual * np.log(predicted))\n",
        "    return loss / float(predicted.shape[0])\n",
        "\n",
        "def categorical_cross_entropy_derivative(predicted, actual):\n",
        "    \"\"\"Derivative of categorical cross-entropy loss function\"\"\"\n",
        "    return predicted - actual"
      ]
    },
    {
      "cell_type": "code",
      "execution_count": null,
      "metadata": {
        "id": "Tl6Mj5wogTcm"
      },
      "outputs": [],
      "source": [
        "class Layer(ABC):\n",
        "    \"\"\"Basic building block of the Neural Network\"\"\"\n",
        "\n",
        "    def __init__(self) -> None:\n",
        "        self._learning_rate = 0.01\n",
        "\n",
        "    @abstractmethod\n",
        "    def forward(self, x:np.ndarray)->np.ndarray:\n",
        "        \"\"\"Forward propagation of x through layer\"\"\"\n",
        "        pass\n",
        "\n",
        "    @abstractmethod\n",
        "    def backward(self, output_error_derivative)->np.ndarray:\n",
        "        \"\"\"Backward propagation of output_error_derivative through layer\"\"\"\n",
        "        pass\n",
        "\n",
        "    @property\n",
        "    def learning_rate(self):\n",
        "        return self._learning_rate\n",
        "\n",
        "    @learning_rate.setter\n",
        "    def learning_rate(self, learning_rate):\n",
        "        assert learning_rate < 1, f\"Given learning_rate={learning_rate} is larger than 1\"\n",
        "        assert learning_rate > 0, f\"Given learning_rate={learning_rate} is smaller than 0\"\n",
        "        self._learning_rate = learning_rate"
      ]
    },
    {
      "cell_type": "code",
      "execution_count": null,
      "metadata": {
        "id": "ziH6CGoCDp_F"
      },
      "outputs": [],
      "source": [
        "class FullyConnected(Layer):\n",
        "    def __init__(self, input_size:int, output_size:int) -> None:\n",
        "        super().__init__()\n",
        "        self.input_size: int = input_size\n",
        "        self.output_size: int = output_size\n",
        "\n",
        "        # OLD VERSION Initialize weights with small random values, and biases to zero\n",
        "        # self.weights: np.ndarray = np.random.randn(input_size, output_size) * 0.01\n",
        "\n",
        "        # NEW Xavier initialization:\n",
        "        #  - Selected random values from a uniform distribution that ranges between -1 and 1\n",
        "        #  - Then scaled weights down by factor 1 / sqrt( input_size )\n",
        "        self.weights: np.ndarray = np.random.uniform(-1, 1, size=(input_size, output_size))\n",
        "        self.weights /= np.sqrt(input_size)\n",
        "        # Biases are initialized as zeros\n",
        "        self.biases: np.ndarray = np.zeros(output_size)\n",
        "\n",
        "    def forward(self, x:np.ndarray)->np.ndarray:\n",
        "        \"\"\"Forward pass: Linear transformation + activation\"\"\"\n",
        "        self.input: np.ndarray = x # save input for use in backwards pass\n",
        "\n",
        "        # Σ (i=0 -> n) { x_i * θ_i + θ_n+1 } + bias\n",
        "        self.output: np.ndarray = np.dot(x, self.weights) + self.biases\n",
        "\n",
        "        return self.output\n",
        "\n",
        "    def backward(self, output_error_derivative: np.ndarray)->np.ndarray:\n",
        "        \"\"\"Backward pass: Compute gradients with respect to input, weights and biases\"\"\"\n",
        "        # Gradient with respect to weights\n",
        "        assert self.input.ndim == 1\n",
        "        assert output_error_derivative.ndim == 1\n",
        "        assert output_error_derivative.size == self.output_size\n",
        "        self.dWeights = np.outer(self.input, output_error_derivative)\n",
        "        assert self.dWeights.shape == self.weights.shape\n",
        "        # Gradient with respect to biases\n",
        "        self.dBiases = output_error_derivative\n",
        "        assert self.dBiases.shape == self.biases.shape\n",
        "\n",
        "        # Compute the gradient with respect to input for the next layer\n",
        "        input_error_derivative = np.dot(output_error_derivative, self.weights.T)\n",
        "        return input_error_derivative\n",
        "\n",
        "    def update_parameters(self)->None:\n",
        "      \"\"\"Update the weights and biases using gradient descent\"\"\"\n",
        "      self.weights -= self.learning_rate * self.dWeights\n",
        "      self.biases  -= self.learning_rate * self.dBiases"
      ]
    },
    {
      "cell_type": "code",
      "execution_count": null,
      "metadata": {
        "id": "HkwaTcGUDv9R"
      },
      "outputs": [],
      "source": [
        "class Tanh(Layer):\n",
        "    def __init__(self) -> None:\n",
        "        super().__init__()\n",
        "\n",
        "    def forward(self, x:np.ndarray)->np.ndarray:\n",
        "        \"\"\"Apply the tanh activation function\"\"\"\n",
        "        self.input = x # Store the input for use in backward pass\n",
        "        self.output = np.tanh(x)\n",
        "        return self.output\n",
        "\n",
        "    def backward(self, output_error_derivative)->np.ndarray:\n",
        "        \"\"\"\n",
        "        Compute the gradient of the loss with respect to the input of this layer\n",
        "        The derivative of tanh is ( 1 - tanh( x )^2 )\n",
        "        \"\"\"\n",
        "        tanh_derivative = 1 - np.power( self.output, 2 )\n",
        "        return output_error_derivative * tanh_derivative"
      ]
    },
    {
      "cell_type": "code",
      "execution_count": null,
      "metadata": {
        "id": "bf8ys4EBVQjq"
      },
      "outputs": [],
      "source": [
        "class ReLU(Layer):\n",
        "    def __init__(self) -> None:\n",
        "        super().__init__()\n",
        "\n",
        "    def forward(self, x: np.ndarray) -> np.ndarray:\n",
        "        self.input = x\n",
        "        self.output = np.maximum(0, x)\n",
        "        return self.output\n",
        "\n",
        "    def backward(self, output_error_derivative: np.ndarray) -> np.ndarray:\n",
        "        relu_derivative = (self.input > 0).astype(float)  # Gradient 1 for x > 0, else -> 0\n",
        "        return output_error_derivative * relu_derivative"
      ]
    },
    {
      "cell_type": "code",
      "execution_count": null,
      "metadata": {
        "id": "03CzEHvrVVE0"
      },
      "outputs": [],
      "source": [
        "class LeakyReLU(Layer):\n",
        "    def __init__(self, alpha: float = 0.01) -> None:\n",
        "        super().__init__()\n",
        "        self.alpha = alpha\n",
        "\n",
        "    def forward(self, x: np.ndarray) -> np.ndarray:\n",
        "        self.input = x\n",
        "        self.output = np.where(x > 0, x, self.alpha * x)\n",
        "        return self.output\n",
        "\n",
        "    def backward(self, output_error_derivative: np.ndarray) -> np.ndarray:\n",
        "        leaky_relu_derivative = np.where(self.input > 0, 1, self.alpha)  # # Gradient 1 for x > 0, else -> alpha\n",
        "        return output_error_derivative * leaky_relu_derivative"
      ]
    },
    {
      "cell_type": "code",
      "execution_count": null,
      "metadata": {
        "id": "zt7siYkiDxn6"
      },
      "outputs": [],
      "source": [
        "class Loss:\n",
        "    def __init__(self, loss_function:Callable, loss_function_derivative:Callable)->None:\n",
        "        self.loss_function = loss_function\n",
        "        self.loss_function_derivative = loss_function_derivative\n",
        "\n",
        "    def loss(self, predicted:np.ndarray, actual: np.ndarray)->np.ndarray:\n",
        "        \"\"\"Loss function for the predicted and actual values\"\"\"\n",
        "\n",
        "        return self.loss_function(predicted, actual)\n",
        "\n",
        "    def loss_derivative(self, predicted:np.ndarray, actual:np.ndarray)->np.ndarray:\n",
        "        \"\"\"Loss function derivative for the predicted and actual values\"\"\"\n",
        "\n",
        "        return self.loss_function_derivative(predicted, actual)"
      ]
    },
    {
      "cell_type": "code",
      "execution_count": null,
      "metadata": {
        "id": "Glhomfe0Dzst"
      },
      "outputs": [],
      "source": [
        "class Network:\n",
        "    def __init__(self, layers:List[Layer], learning_rate:float)->None:\n",
        "        self.layers: List[Layer] = layers\n",
        "        self.learning_rate: float = learning_rate\n",
        "\n",
        "    def compile(self, loss:Loss)->None:\n",
        "        \"\"\"Define the loss function and loss function derivative\"\"\"\n",
        "        self.loss: \"Loss\" = loss\n",
        "\n",
        "    def __call__(self, input:np.ndarray) -> np.ndarray:\n",
        "        \"\"\"Forward propagation of x through all layers\n",
        "           input should be of size 784\n",
        "        \"\"\"\n",
        "\n",
        "        for layer in self.layers:\n",
        "            input = layer.forward(input)\n",
        "        return input\n",
        "\n",
        "    def fit(self,\n",
        "            x_train:np.ndarray, # training data\n",
        "            y_train:np.ndarray, # training target; len = 10; format = [0,0,0,0,0,0,0,0,0,0], with correct index being 1\n",
        "            epochs:int,\n",
        "            learning_rate: Optional[float],\n",
        "            verbose:int=0)->None:\n",
        "        \"\"\"Fit the network to the training data\"\"\"\n",
        "\n",
        "        if learning_rate is not None:\n",
        "            self.learning_rate = learning_rate\n",
        "            for layer in self.layers:\n",
        "                layer.learning_rate = self.learning_rate\n",
        "\n",
        "        for epoch in range(epochs):\n",
        "            # forward pass\n",
        "            predictions = self(x_train)\n",
        "            loss_value = self.loss.loss(predictions, y_train)\n",
        "\n",
        "            # backward pass\n",
        "            loss_gradient = self.loss.loss_derivative(predictions, y_train)\n",
        "            for layer in reversed(self.layers):\n",
        "                loss_gradient = layer.backward(loss_gradient)\n",
        "                if hasattr(layer, 'update_parameters'):\n",
        "                    layer.update_parameters()\n",
        "\n",
        "\n",
        "            if verbose > 0 and epoch % verbose == 0:\n",
        "                print(f\"Epoch {epoch+1}/{epochs}, Loss: {loss_value:.4f}\")"
      ]
    },
    {
      "cell_type": "code",
      "execution_count": null,
      "metadata": {
        "id": "KBwSssyTYZRP"
      },
      "outputs": [],
      "source": [
        "def test_tanh(sample_count: int,\n",
        "         test_size: float,\n",
        "         layer_size1: int,\n",
        "         layer_size2: int,\n",
        "         epochs: int,\n",
        "         learning_rate: float,\n",
        "         verbose: bool,\n",
        "         random_state: int):\n",
        "    MNIST = fetch_openml('mnist_784', version=1)\n",
        "    x, y = np.array(MNIST.data)/255, np.array(MNIST.target)\n",
        "\n",
        "    n = sample_count\n",
        "    x = x[:n]\n",
        "    y = y[:n]\n",
        "\n",
        "    x = x.astype(float)\n",
        "    y = y.astype(int)\n",
        "\n",
        "    y_temp = []\n",
        "    for id in range(y.size):\n",
        "        y_temp.append([0 for _ in range(10)])\n",
        "        y_temp[-1][y[id]] = 1\n",
        "\n",
        "    y = np.array(y_temp)\n",
        "\n",
        "    x_train, x_test, y_train, y_test = train_test_split(x, y, test_size=0.1, random_state=random_state)\n",
        "\n",
        "    layers = [\n",
        "        FullyConnected(input_size=784, output_size=layer_size1),\n",
        "        Tanh(),\n",
        "        FullyConnected(input_size=layer_size1, output_size=layer_size2),\n",
        "        Tanh(),\n",
        "        FullyConnected(input_size=layer_size2, output_size=10),\n",
        "        Tanh()\n",
        "    ]\n",
        "\n",
        "    net = Network(layers, learning_rate=0.1)\n",
        "    mse = Loss(mse_loss, mse_loss_derivative)\n",
        "    net.compile(loss=mse)\n",
        "\n",
        "    for x_tr, y_tr in zip(x_train, y_train):\n",
        "        net.fit(x_tr, y_tr, epochs=epochs, learning_rate=None, verbose=verbose)\n",
        "\n",
        "    predictions = net(x_test)\n",
        "    predicted_classes = np.argmax(predictions, axis=1)\n",
        "    actual_classes = np.argmax(y_test, axis=1)\n",
        "\n",
        "    accuracy = np.mean(predicted_classes == actual_classes)\n",
        "    print(f\"Test accuracy: {accuracy:.2f} for parameters: sample_count: {sample_count}, test_size: {test_size}, Layers' size: {layer_size1}, {layer_size2}, epochs: {epochs}, learning_rate: {learning_rate}\")\n"
      ]
    },
    {
      "cell_type": "code",
      "execution_count": null,
      "metadata": {
        "colab": {
          "base_uri": "https://localhost:8080/"
        },
        "id": "RzUjgPs6D0Mh",
        "outputId": "efbc336c-9538-4557-80aa-db0f0b9754f4"
      },
      "outputs": [
        {
          "name": "stdout",
          "output_type": "stream",
          "text": [
            "Test accuracy: 0.91 for parameters: sample_count: 30000, test_size: 0.1, Layers' size: 128, 64, epochs: 20, learning_rate: 0.01\n",
            "Test accuracy: 0.92 for parameters: sample_count: 30000, test_size: 0.1, Layers' size: 128, 64, epochs: 20, learning_rate: 0.01\n",
            "Test accuracy: 0.91 for parameters: sample_count: 30000, test_size: 0.1, Layers' size: 128, 64, epochs: 20, learning_rate: 0.01\n"
          ]
        }
      ],
      "source": [
        "test_tanh(\n",
        "    sample_count = 30_000,\n",
        "    test_size = 0.1,\n",
        "    layer_size1 = 128,\n",
        "    layer_size2 = 64,\n",
        "    epochs = 20,\n",
        "    learning_rate = 0.01,\n",
        "    verbose = False,\n",
        "    random_state=42)\n",
        "\n",
        "test_tanh(\n",
        "    sample_count = 30_000,\n",
        "    test_size = 0.1,\n",
        "    layer_size1 = 128,\n",
        "    layer_size2 = 64,\n",
        "    epochs = 20,\n",
        "    learning_rate = 0.01,\n",
        "    verbose = False,\n",
        "    random_state=69)\n",
        "\n",
        "test_tanh(\n",
        "    sample_count = 30_000,\n",
        "    test_size = 0.1,\n",
        "    layer_size1 = 128,\n",
        "    layer_size2 = 64,\n",
        "    epochs = 20,\n",
        "    learning_rate = 0.01,\n",
        "    verbose = False,\n",
        "    random_state=1337)"
      ]
    },
    {
      "cell_type": "code",
      "execution_count": null,
      "metadata": {
        "id": "Buk57xsCYbyI"
      },
      "outputs": [],
      "source": [
        "def test_relu(sample_count: int,\n",
        "         test_size: float,\n",
        "         layer_size1: int,\n",
        "         layer_size2: int,\n",
        "         epochs: int,\n",
        "         learning_rate: float,\n",
        "         verbose: bool,\n",
        "         random_state: int):\n",
        "    MNIST = fetch_openml('mnist_784', version=1)\n",
        "    x, y = np.array(MNIST.data)/255, np.array(MNIST.target)\n",
        "\n",
        "    n = sample_count\n",
        "    x = x[:n]\n",
        "    y = y[:n]\n",
        "\n",
        "    x = x.astype(float)\n",
        "    y = y.astype(int)\n",
        "\n",
        "    y_temp = []\n",
        "    for id in range(y.size):\n",
        "        y_temp.append([0 for _ in range(10)])\n",
        "        y_temp[-1][y[id]] = 1\n",
        "\n",
        "    y = np.array(y_temp)\n",
        "\n",
        "    x_train, x_test, y_train, y_test = train_test_split(x, y, test_size=0.1, random_state=random_state)\n",
        "\n",
        "    layers = [\n",
        "        FullyConnected(input_size=784, output_size=layer_size1),\n",
        "        ReLU(),\n",
        "        FullyConnected(input_size=layer_size1, output_size=layer_size2),\n",
        "        ReLU(),\n",
        "        FullyConnected(input_size=layer_size2, output_size=10),\n",
        "        ReLU()\n",
        "    ]\n",
        "\n",
        "    net = Network(layers, learning_rate=0.1)\n",
        "    mse = Loss(mse_loss, mse_loss_derivative)\n",
        "    net.compile(loss=mse)\n",
        "\n",
        "    for x_tr, y_tr in zip(x_train, y_train):\n",
        "        net.fit(x_tr, y_tr, epochs=epochs, learning_rate=None, verbose=verbose)\n",
        "\n",
        "    predictions = net(x_test)\n",
        "    predicted_classes = np.argmax(predictions, axis=1)\n",
        "    actual_classes = np.argmax(y_test, axis=1)\n",
        "\n",
        "    accuracy = np.mean(predicted_classes == actual_classes)\n",
        "    print(f\"Test accuracy: {accuracy:.2f} for parameters: sample_count: {sample_count}, test_size: {test_size}, Layers' size: {layer_size1}, {layer_size2}, epochs: {epochs}, learning_rate: {learning_rate}\")\n"
      ]
    },
    {
      "cell_type": "code",
      "execution_count": null,
      "metadata": {
        "colab": {
          "base_uri": "https://localhost:8080/"
        },
        "id": "HKrznWU8VKE0",
        "outputId": "18080589-a148-4dea-aab0-866a84990a86"
      },
      "outputs": [
        {
          "name": "stdout",
          "output_type": "stream",
          "text": [
            "Test accuracy: 0.73 for parameters: sample_count: 30000, test_size: 0.1, Layers' size: 128, 64, epochs: 20, learning_rate: 0.01\n",
            "Test accuracy: 0.75 for parameters: sample_count: 30000, test_size: 0.1, Layers' size: 128, 64, epochs: 20, learning_rate: 0.01\n",
            "Test accuracy: 0.93 for parameters: sample_count: 30000, test_size: 0.1, Layers' size: 128, 64, epochs: 20, learning_rate: 0.01\n"
          ]
        }
      ],
      "source": [
        "test_relu(\n",
        "    sample_count = 30_000,\n",
        "    test_size = 0.1,\n",
        "    layer_size1 = 128,\n",
        "    layer_size2 = 64,\n",
        "    epochs = 20,\n",
        "    learning_rate = 0.01,\n",
        "    verbose = False,\n",
        "    random_state=42)\n",
        "\n",
        "test_relu(\n",
        "    sample_count = 30_000,\n",
        "    test_size = 0.1,\n",
        "    layer_size1 = 128,\n",
        "    layer_size2 = 64,\n",
        "    epochs = 20,\n",
        "    learning_rate = 0.01,\n",
        "    verbose = False,\n",
        "    random_state=69)\n",
        "\n",
        "test_relu(\n",
        "    sample_count = 30_000,\n",
        "    test_size = 0.1,\n",
        "    layer_size1 = 128,\n",
        "    layer_size2 = 64,\n",
        "    epochs = 20,\n",
        "    learning_rate = 0.01,\n",
        "    verbose = False,\n",
        "    random_state=1337)"
      ]
    },
    {
      "cell_type": "code",
      "execution_count": null,
      "metadata": {
        "id": "2AkT6myuYehy"
      },
      "outputs": [],
      "source": [
        "def test_leaky_relu(sample_count: int,\n",
        "         test_size: float,\n",
        "         layer_size1: int,\n",
        "         layer_size2: int,\n",
        "         epochs: int,\n",
        "         learning_rate: float,\n",
        "         verbose: bool,\n",
        "         random_state: int):\n",
        "    MNIST = fetch_openml('mnist_784', version=1)\n",
        "    x, y = np.array(MNIST.data)/255, np.array(MNIST.target)\n",
        "\n",
        "    n = sample_count\n",
        "    x = x[:n]\n",
        "    y = y[:n]\n",
        "\n",
        "    x = x.astype(float)\n",
        "    y = y.astype(int)\n",
        "\n",
        "    y_temp = []\n",
        "    for id in range(y.size):\n",
        "        y_temp.append([0 for _ in range(10)])\n",
        "        y_temp[-1][y[id]] = 1\n",
        "\n",
        "    y = np.array(y_temp)\n",
        "\n",
        "    x_train, x_test, y_train, y_test = train_test_split(x, y, test_size=0.1, random_state=random_state)\n",
        "\n",
        "    layers = [\n",
        "        FullyConnected(input_size=784, output_size=layer_size1),\n",
        "        LeakyReLU(),\n",
        "        FullyConnected(input_size=layer_size1, output_size=layer_size2),\n",
        "        LeakyReLU(),\n",
        "        FullyConnected(input_size=layer_size2, output_size=10),\n",
        "        LeakyReLU()\n",
        "    ]\n",
        "\n",
        "    net = Network(layers, learning_rate=0.1)\n",
        "    mse = Loss(mse_loss, mse_loss_derivative)\n",
        "    net.compile(loss=mse)\n",
        "\n",
        "    for x_tr, y_tr in zip(x_train, y_train):\n",
        "        net.fit(x_tr, y_tr, epochs=epochs, learning_rate=None, verbose=verbose)\n",
        "\n",
        "    predictions = net(x_test)\n",
        "    predicted_classes = np.argmax(predictions, axis=1)\n",
        "    actual_classes = np.argmax(y_test, axis=1)\n",
        "\n",
        "    accuracy = np.mean(predicted_classes == actual_classes)\n",
        "    print(f\"Test accuracy: {accuracy:.2f} for parameters: sample_count: {sample_count}, test_size: {test_size}, Layers' size: {layer_size1}, {layer_size2}, epochs: {epochs}, learning_rate: {learning_rate}\")\n"
      ]
    },
    {
      "cell_type": "code",
      "execution_count": null,
      "metadata": {
        "colab": {
          "base_uri": "https://localhost:8080/"
        },
        "id": "Ima1cHYAZHrv",
        "outputId": "346945b9-dc46-4a75-a15a-27be2596915d"
      },
      "outputs": [
        {
          "name": "stdout",
          "output_type": "stream",
          "text": [
            "Test accuracy: 0.94 for parameters: sample_count: 30000, test_size: 0.1, Layers' size: 128, 64, epochs: 20, learning_rate: 0.01\n",
            "Test accuracy: 0.94 for parameters: sample_count: 30000, test_size: 0.1, Layers' size: 128, 64, epochs: 20, learning_rate: 0.01\n",
            "Test accuracy: 0.94 for parameters: sample_count: 30000, test_size: 0.1, Layers' size: 128, 64, epochs: 20, learning_rate: 0.01\n"
          ]
        }
      ],
      "source": [
        "test_leaky_relu(\n",
        "    sample_count = 30_000,\n",
        "    test_size = 0.1,\n",
        "    layer_size1 = 128,\n",
        "    layer_size2 = 64,\n",
        "    epochs = 20,\n",
        "    learning_rate = 0.01,\n",
        "    verbose = False,\n",
        "    random_state=42)\n",
        "\n",
        "test_leaky_relu(\n",
        "    sample_count = 30_000,\n",
        "    test_size = 0.1,\n",
        "    layer_size1 = 128,\n",
        "    layer_size2 = 64,\n",
        "    epochs = 20,\n",
        "    learning_rate = 0.01,\n",
        "    verbose = False,\n",
        "    random_state=69)\n",
        "\n",
        "test_leaky_relu(\n",
        "    sample_count = 30_000,\n",
        "    test_size = 0.1,\n",
        "    layer_size1 = 128,\n",
        "    layer_size2 = 64,\n",
        "    epochs = 20,\n",
        "    learning_rate = 0.01,\n",
        "    verbose = False,\n",
        "    random_state=1337)"
      ]
    },
    {
      "cell_type": "code",
      "execution_count": null,
      "metadata": {
        "colab": {
          "base_uri": "https://localhost:8080/"
        },
        "id": "9IigAE5xEy9v",
        "outputId": "d6376158-3f71-4df1-90d7-657efa96efee"
      },
      "outputs": [
        {
          "name": "stdout",
          "output_type": "stream",
          "text": [
            "\n",
            " low sample count\n",
            "Test accuracy: 0.73 for parameters: sample_count: 1000, test_size: 0.1, Layers' size: 128, 32, epochs: 10, learning_rate: 0.01\n",
            "\n",
            " medium sample count\n",
            "Test accuracy: 0.85 for parameters: sample_count: 5000, test_size: 0.1, Layers' size: 128, 32, epochs: 10, learning_rate: 0.01\n",
            "\n",
            " high sample count\n",
            "Test accuracy: 0.89 for parameters: sample_count: 10000, test_size: 0.1, Layers' size: 128, 32, epochs: 10, learning_rate: 0.01\n",
            "\n",
            " high train size, low test size\n",
            "Test accuracy: 0.70 for parameters: sample_count: 1000, test_size: 0.1, Layers' size: 128, 32, epochs: 10, learning_rate: 0.01\n",
            "\n",
            " medium train size, medium test size\n",
            "Test accuracy: 0.77 for parameters: sample_count: 1000, test_size: 0.3, Layers' size: 128, 32, epochs: 10, learning_rate: 0.01\n",
            "\n",
            " low train size, high test size\n",
            "Test accuracy: 0.73 for parameters: sample_count: 1000, test_size: 0.7, Layers' size: 128, 32, epochs: 10, learning_rate: 0.01\n",
            "\n",
            " low epoch count\n",
            "Test accuracy: 0.73 for parameters: sample_count: 1000, test_size: 0.1, Layers' size: 128, 32, epochs: 5, learning_rate: 0.01\n",
            "\n",
            " medium epoch count\n",
            "Test accuracy: 0.73 for parameters: sample_count: 1000, test_size: 0.1, Layers' size: 128, 32, epochs: 10, learning_rate: 0.01\n",
            "\n",
            " high epoch count\n",
            "Test accuracy: 0.76 for parameters: sample_count: 1000, test_size: 0.1, Layers' size: 128, 32, epochs: 20, learning_rate: 0.01\n",
            "\n",
            " low learning rate\n",
            "Test accuracy: 0.75 for parameters: sample_count: 1000, test_size: 0.1, Layers' size: 128, 32, epochs: 10, learning_rate: 0.01\n",
            "\n",
            " medium learning rate\n",
            "Test accuracy: 0.72 for parameters: sample_count: 1000, test_size: 0.1, Layers' size: 128, 32, epochs: 10, learning_rate: 0.1\n",
            "\n",
            " high learning rate\n",
            "Test accuracy: 0.71 for parameters: sample_count: 1000, test_size: 0.1, Layers' size: 128, 32, epochs: 10, learning_rate: 0.3\n"
          ]
        }
      ],
      "source": [
        "\"\"\"Tanh\"\"\"\n",
        "\n",
        "testing_parameters = [\n",
        "    ['\\n low sample count', 1_000, 0.1, 128, 32, 10, 0.01, False, 42],\n",
        "    ['\\n medium sample count', 5_000, 0.1, 128, 32, 10, 0.01, False, 42],\n",
        "    ['\\n high sample count', 10_000, 0.1, 128, 32, 10, 0.01, False, 42],\n",
        "\n",
        "    ['\\n high train size, low test size', 1_000, 0.1, 128, 32, 10, 0.01, False, 42],\n",
        "    ['\\n medium train size, medium test size', 1_000, 0.3, 128, 32, 10, 0.01, False, 42],\n",
        "    ['\\n low train size, high test size', 1_000, 0.7, 128, 32, 10, 0.01, False, 42],\n",
        "\n",
        "    ['\\n low epoch count', 1_000, 0.1, 128, 32, 5, 0.01, False, 42],\n",
        "    ['\\n medium epoch count', 1_000, 0.1, 128, 32, 10, 0.01, False, 42],\n",
        "    ['\\n high epoch count', 1_000, 0.1, 128, 32, 20, 0.01, False, 42],\n",
        "\n",
        "    ['\\n low learning rate', 1_000, 0.1, 128, 32, 10, 0.01, False, 42],\n",
        "    ['\\n medium learning rate', 1_000, 0.1, 128, 32, 10, 0.1, False, 42],\n",
        "    ['\\n high learning rate', 1_000, 0.1, 128, 32, 10, 0.3, False, 42],\n",
        "]\n",
        "\n",
        "for txt, sample_count, test_size, layer_size1, layer_size2, epochs, learning_rate, verbose, random_state in testing_parameters:\n",
        "  print(txt)\n",
        "  test_tanh(sample_count, test_size, layer_size1, layer_size2, epochs, learning_rate, verbose, random_state)"
      ]
    },
    {
      "cell_type": "code",
      "execution_count": null,
      "metadata": {
        "colab": {
          "base_uri": "https://localhost:8080/"
        },
        "id": "aynwDDzLZ0nW",
        "outputId": "2a68d600-2fc1-4a0d-c47c-a75bed3c4994"
      },
      "outputs": [
        {
          "name": "stdout",
          "output_type": "stream",
          "text": [
            "\n",
            " low sample count\n",
            "Test accuracy: 0.71 for parameters: sample_count: 1000, test_size: 0.1, Layers' size: 128, 32, epochs: 10, learning_rate: 0.01\n",
            "\n",
            " medium sample count\n",
            "Test accuracy: 0.86 for parameters: sample_count: 5000, test_size: 0.1, Layers' size: 128, 32, epochs: 10, learning_rate: 0.01\n",
            "\n",
            " high sample count\n",
            "Test accuracy: 0.92 for parameters: sample_count: 10000, test_size: 0.1, Layers' size: 128, 32, epochs: 10, learning_rate: 0.01\n",
            "\n",
            " high train size, low test size\n",
            "Test accuracy: 0.76 for parameters: sample_count: 1000, test_size: 0.1, Layers' size: 128, 32, epochs: 10, learning_rate: 0.01\n",
            "\n",
            " medium train size, medium test size\n",
            "Test accuracy: 0.80 for parameters: sample_count: 1000, test_size: 0.3, Layers' size: 128, 32, epochs: 10, learning_rate: 0.01\n",
            "\n",
            " low train size, high test size\n",
            "Test accuracy: 0.78 for parameters: sample_count: 1000, test_size: 0.7, Layers' size: 128, 32, epochs: 10, learning_rate: 0.01\n",
            "\n",
            " low epoch count\n",
            "Test accuracy: 0.57 for parameters: sample_count: 1000, test_size: 0.1, Layers' size: 128, 32, epochs: 5, learning_rate: 0.01\n",
            "\n",
            " medium epoch count\n",
            "Test accuracy: 0.75 for parameters: sample_count: 1000, test_size: 0.1, Layers' size: 128, 32, epochs: 10, learning_rate: 0.01\n",
            "\n",
            " high epoch count\n",
            "Test accuracy: 0.67 for parameters: sample_count: 1000, test_size: 0.1, Layers' size: 128, 32, epochs: 20, learning_rate: 0.01\n",
            "\n",
            " low learning rate\n",
            "Test accuracy: 0.52 for parameters: sample_count: 1000, test_size: 0.1, Layers' size: 128, 32, epochs: 10, learning_rate: 0.01\n",
            "\n",
            " medium learning rate\n",
            "Test accuracy: 0.73 for parameters: sample_count: 1000, test_size: 0.1, Layers' size: 128, 32, epochs: 10, learning_rate: 0.1\n",
            "\n",
            " high learning rate\n",
            "Test accuracy: 0.76 for parameters: sample_count: 1000, test_size: 0.1, Layers' size: 128, 32, epochs: 10, learning_rate: 0.3\n"
          ]
        }
      ],
      "source": [
        "\"\"\"ReLU\"\"\"\n",
        "\n",
        "testing_parameters = [\n",
        "    ['\\n low sample count', 1_000, 0.1, 128, 32, 10, 0.01, False, 42],\n",
        "    ['\\n medium sample count', 5_000, 0.1, 128, 32, 10, 0.01, False, 42],\n",
        "    ['\\n high sample count', 10_000, 0.1, 128, 32, 10, 0.01, False, 42],\n",
        "\n",
        "    ['\\n high train size, low test size', 1_000, 0.1, 128, 32, 10, 0.01, False, 42],\n",
        "    ['\\n medium train size, medium test size', 1_000, 0.3, 128, 32, 10, 0.01, False, 42],\n",
        "    ['\\n low train size, high test size', 1_000, 0.7, 128, 32, 10, 0.01, False, 42],\n",
        "\n",
        "    ['\\n low epoch count', 1_000, 0.1, 128, 32, 5, 0.01, False, 42],\n",
        "    ['\\n medium epoch count', 1_000, 0.1, 128, 32, 10, 0.01, False, 42],\n",
        "    ['\\n high epoch count', 1_000, 0.1, 128, 32, 20, 0.01, False, 42],\n",
        "\n",
        "    ['\\n low learning rate', 1_000, 0.1, 128, 32, 10, 0.01, False, 42],\n",
        "    ['\\n medium learning rate', 1_000, 0.1, 128, 32, 10, 0.1, False, 42],\n",
        "    ['\\n high learning rate', 1_000, 0.1, 128, 32, 10, 0.3, False, 42],\n",
        "]\n",
        "\n",
        "for txt, sample_count, test_size, layer_size1, layer_size2, epochs, learning_rate, verbose, random_state in testing_parameters:\n",
        "  print(txt)\n",
        "  test_relu(sample_count, test_size, layer_size1, layer_size2, epochs, learning_rate, verbose, random_state)"
      ]
    },
    {
      "cell_type": "code",
      "execution_count": null,
      "metadata": {
        "colab": {
          "base_uri": "https://localhost:8080/"
        },
        "id": "L3SLy1nlZ4HX",
        "outputId": "eb0e8bcd-3acf-4fc0-d950-1021e284ade0"
      },
      "outputs": [
        {
          "name": "stdout",
          "output_type": "stream",
          "text": [
            "\n",
            " low sample count\n",
            "Test accuracy: 0.74 for parameters: sample_count: 1000, test_size: 0.1, Layers' size: 128, 32, epochs: 10, learning_rate: 0.01\n",
            "\n",
            " medium sample count\n",
            "Test accuracy: 0.77 for parameters: sample_count: 5000, test_size: 0.1, Layers' size: 128, 32, epochs: 10, learning_rate: 0.01\n",
            "\n",
            " high sample count\n",
            "Test accuracy: 0.91 for parameters: sample_count: 10000, test_size: 0.1, Layers' size: 128, 32, epochs: 10, learning_rate: 0.01\n",
            "\n",
            " high train size, low test size\n",
            "Test accuracy: 0.62 for parameters: sample_count: 1000, test_size: 0.1, Layers' size: 128, 32, epochs: 10, learning_rate: 0.01\n",
            "\n",
            " medium train size, medium test size\n",
            "Test accuracy: 0.54 for parameters: sample_count: 1000, test_size: 0.3, Layers' size: 128, 32, epochs: 10, learning_rate: 0.01\n",
            "\n",
            " low train size, high test size\n",
            "Test accuracy: 0.77 for parameters: sample_count: 1000, test_size: 0.7, Layers' size: 128, 32, epochs: 10, learning_rate: 0.01\n",
            "\n",
            " low epoch count\n",
            "Test accuracy: 0.59 for parameters: sample_count: 1000, test_size: 0.1, Layers' size: 128, 32, epochs: 5, learning_rate: 0.01\n",
            "\n",
            " medium epoch count\n",
            "Test accuracy: 0.57 for parameters: sample_count: 1000, test_size: 0.1, Layers' size: 128, 32, epochs: 10, learning_rate: 0.01\n",
            "\n",
            " high epoch count\n",
            "Test accuracy: 0.63 for parameters: sample_count: 1000, test_size: 0.1, Layers' size: 128, 32, epochs: 20, learning_rate: 0.01\n",
            "\n",
            " low learning rate\n",
            "Test accuracy: 0.82 for parameters: sample_count: 1000, test_size: 0.1, Layers' size: 128, 32, epochs: 10, learning_rate: 0.01\n",
            "\n",
            " medium learning rate\n",
            "Test accuracy: 0.66 for parameters: sample_count: 1000, test_size: 0.1, Layers' size: 128, 32, epochs: 10, learning_rate: 0.1\n",
            "\n",
            " high learning rate\n",
            "Test accuracy: 0.68 for parameters: sample_count: 1000, test_size: 0.1, Layers' size: 128, 32, epochs: 10, learning_rate: 0.3\n"
          ]
        }
      ],
      "source": [
        "\"\"\"LeakyReLU\"\"\"\n",
        "\n",
        "testing_parameters = [\n",
        "    ['\\n low sample count', 1_000, 0.1, 128, 32, 10, 0.01, False, 42],\n",
        "    ['\\n medium sample count', 5_000, 0.1, 128, 32, 10, 0.01, False, 42],\n",
        "    ['\\n high sample count', 10_000, 0.1, 128, 32, 10, 0.01, False, 42],\n",
        "\n",
        "    ['\\n high train size, low test size', 1_000, 0.1, 128, 32, 10, 0.01, False, 42],\n",
        "    ['\\n medium train size, medium test size', 1_000, 0.3, 128, 32, 10, 0.01, False, 42],\n",
        "    ['\\n low train size, high test size', 1_000, 0.7, 128, 32, 10, 0.01, False, 42],\n",
        "\n",
        "    ['\\n low epoch count', 1_000, 0.1, 128, 32, 5, 0.01, False, 42],\n",
        "    ['\\n medium epoch count', 1_000, 0.1, 128, 32, 10, 0.01, False, 42],\n",
        "    ['\\n high epoch count', 1_000, 0.1, 128, 32, 20, 0.01, False, 42],\n",
        "\n",
        "    ['\\n low learning rate', 1_000, 0.1, 128, 32, 10, 0.01, False, 42],\n",
        "    ['\\n medium learning rate', 1_000, 0.1, 128, 32, 10, 0.1, False, 42],\n",
        "    ['\\n high learning rate', 1_000, 0.1, 128, 32, 10, 0.3, False, 42],\n",
        "]\n",
        "\n",
        "for txt, sample_count, test_size, layer_size1, layer_size2, epochs, learning_rate, verbose, random_state in testing_parameters:\n",
        "  print(txt)\n",
        "  test_leaky_relu(sample_count, test_size, layer_size1, layer_size2, epochs, learning_rate, verbose, random_state)"
      ]
    },
    {
      "cell_type": "markdown",
      "metadata": {
        "collapsed": false,
        "id": "sZTneKpngTco"
      },
      "source": [
        "# Eksperymenty"
      ]
    },
    {
      "cell_type": "code",
      "execution_count": null,
      "metadata": {
        "id": "B17yPSZ5sE9N"
      },
      "outputs": [],
      "source": [
        "def test_leakyrelu_graph(sample_count: int,\n",
        "         test_size: float,\n",
        "         layer_size1: int,\n",
        "         layer_size2: int,\n",
        "         epochs: int,\n",
        "         learning_rate: float,\n",
        "         verbose: bool,\n",
        "         random_state: int):\n",
        "    MNIST = fetch_openml('mnist_784', version=1)\n",
        "    x, y = np.array(MNIST.data), np.array(MNIST.target)\n",
        "\n",
        "    n = sample_count\n",
        "    x = x[:n]\n",
        "    y = y[:n]\n",
        "\n",
        "    x = x.astype(float)\n",
        "    y = y.astype(int)\n",
        "\n",
        "    y_temp = []\n",
        "    for id in range(y.size):\n",
        "        y_temp.append([0 for _ in range(10)])\n",
        "        y_temp[-1][y[id]] = 1\n",
        "\n",
        "    y = np.array(y_temp)\n",
        "\n",
        "    x_train, x_test, y_train, y_test = train_test_split(x, y, test_size=0.1, random_state=random_state)\n",
        "\n",
        "    layers = [\n",
        "        FullyConnected(input_size=784, output_size=layer_size1),\n",
        "        LeakyReLU(),\n",
        "        FullyConnected(input_size=layer_size1, output_size=layer_size2),\n",
        "        LeakyReLU(),\n",
        "        FullyConnected(input_size=layer_size2, output_size=10),\n",
        "        LeakyReLU()\n",
        "    ]\n",
        "\n",
        "    net = Network(layers, learning_rate=0.1)\n",
        "    mse = Loss(mse_loss, mse_loss_derivative)\n",
        "    net.compile(loss=mse)\n",
        "\n",
        "    for x_tr, y_tr in zip(x_train, y_train):\n",
        "        net.fit(x_tr, y_tr, epochs=epochs, learning_rate=None, verbose=verbose)\n",
        "\n",
        "    predictions = net(x_test)\n",
        "    predicted_classes = np.argmax(predictions, axis=1)\n",
        "    actual_classes = np.argmax(y_test, axis=1)\n",
        "\n",
        "    accuracy = np.mean(predicted_classes == actual_classes)\n",
        "    return accuracy"
      ]
    },
    {
      "cell_type": "code",
      "execution_count": null,
      "metadata": {
        "colab": {
          "base_uri": "https://localhost:8080/",
          "height": 472
        },
        "id": "cNMHfKVxrQwp",
        "outputId": "b2f888f6-1525-4cfe-9166-913b3e3be4eb"
      },
      "outputs": [
        {
          "data": {
            "image/png": "[encoded data removed]",
            "text/plain": [
              "<Figure size 640x480 with 1 Axes>"
            ]
          },
          "metadata": {},
          "output_type": "display_data"
        }
      ],
      "source": [
        "# Graph for LeakyReLU accuracy\n",
        "\n",
        "testing_parameters = [\n",
        "    [ 1_000, 0.1, 128, 32, 10, 0.01, False, 42],\n",
        "    [ 2_000, 0.1, 128, 32, 10, 0.01, False, 42],\n",
        "    [ 5_000, 0.1, 128, 32, 10, 0.01, False, 42],\n",
        "    [ 10_000, 0.1, 128, 32, 10, 0.01, False, 42],\n",
        "    [ 15_000, 0.1, 128, 32, 10, 0.01, False, 42],\n",
        "    [ 20_000, 0.1, 128, 32, 10, 0.01, False, 42],\n",
        "]\n",
        "samples = [1, 2, 5, 10, 15, 20]\n",
        "accuracies = []\n",
        "\n",
        "for sample_count, test_size, layer_size1, layer_size2, epochs, learning_rate, verbose, random_state in testing_parameters:\n",
        "  accuracy = test_leakyrelu_graph(sample_count, test_size, layer_size1, layer_size2, epochs, learning_rate, verbose, random_state)\n",
        "  accuracies.append(accuracy)\n",
        "\n",
        "plt.plot(samples, accuracies)\n",
        "plt.title(\"Accuracy by Sample count\")\n",
        "plt.xlabel(\"Sample count in 1000s\")\n",
        "plt.ylabel(\"Accuracy\")\n",
        "plt.show()"
      ]
    },
    {
      "cell_type": "code",
      "execution_count": null,
      "metadata": {
        "id": "jPHuE6Xn5qot"
      },
      "outputs": [],
      "source": [
        "def test_relu_graph(sample_count: int,\n",
        "         test_size: float,\n",
        "         layer_size1: int,\n",
        "         layer_size2: int,\n",
        "         epochs: int,\n",
        "         learning_rate: float,\n",
        "         verbose: bool,\n",
        "         random_state: int):\n",
        "    MNIST = fetch_openml('mnist_784', version=1)\n",
        "    x, y = np.array(MNIST.data)/255, np.array(MNIST.target)\n",
        "\n",
        "    n = sample_count\n",
        "    x = x[:n]\n",
        "    y = y[:n]\n",
        "\n",
        "    x = x.astype(float)\n",
        "    y = y.astype(int)\n",
        "\n",
        "    y_temp = []\n",
        "    for id in range(y.size):\n",
        "        y_temp.append([0 for _ in range(10)])\n",
        "        y_temp[-1][y[id]] = 1\n",
        "\n",
        "    y = np.array(y_temp)\n",
        "\n",
        "    x_train, x_test, y_train, y_test = train_test_split(x, y, test_size=0.1, random_state=random_state)\n",
        "\n",
        "    layers = [\n",
        "        FullyConnected(input_size=784, output_size=layer_size1),\n",
        "        ReLU(),\n",
        "        FullyConnected(input_size=layer_size1, output_size=layer_size2),\n",
        "        ReLU(),\n",
        "        FullyConnected(input_size=layer_size2, output_size=10),\n",
        "        ReLU()\n",
        "    ]\n",
        "\n",
        "    net = Network(layers, learning_rate=0.1)\n",
        "    mse = Loss(mse_loss, mse_loss_derivative)\n",
        "    net.compile(loss=mse)\n",
        "\n",
        "    for x_tr, y_tr in zip(x_train, y_train):\n",
        "        net.fit(x_tr, y_tr, epochs=epochs, learning_rate=None, verbose=verbose)\n",
        "\n",
        "    predictions = net(x_test)\n",
        "    predicted_classes = np.argmax(predictions, axis=1)\n",
        "    actual_classes = np.argmax(y_test, axis=1)\n",
        "\n",
        "    accuracy = np.mean(predicted_classes == actual_classes)\n",
        "    return accuracy"
      ]
    },
    {
      "cell_type": "code",
      "execution_count": null,
      "metadata": {
        "colab": {
          "base_uri": "https://localhost:8080/",
          "height": 472
        },
        "id": "iCrt4s-R5xM5",
        "outputId": "96c2d4e3-c296-4397-ab92-fd446a57070f"
      },
      "outputs": [
        {
          "output_type": "display_data",
          "data": {
            "text/plain": [
              "<Figure size 640x480 with 1 Axes>"
            ],
            "image/png": "[encoded data removed]"
          },
          "metadata": {}
        }
      ],
      "source": [
        "# Graph for ReLU accuracy\n",
        "\n",
        "testing_parameters = [\n",
        "    [ 1_000, 0.1, 128, 32, 10, 0.01, False, 42],\n",
        "    [ 2_000, 0.1, 128, 32, 10, 0.01, False, 42],\n",
        "    [ 5_000, 0.1, 128, 32, 10, 0.01, False, 42],\n",
        "    [ 10_000, 0.1, 128, 32, 10, 0.01, False, 42],\n",
        "    [ 15_000, 0.1, 128, 32, 10, 0.01, False, 42],\n",
        "    [ 20_000, 0.1, 128, 32, 10, 0.01, False, 42],\n",
        "]\n",
        "samples = [1, 2, 5, 10, 15, 20]\n",
        "accuracies = []\n",
        "\n",
        "for sample_count, test_size, layer_size1, layer_size2, epochs, learning_rate, verbose, random_state in testing_parameters:\n",
        "  accuracy = test_relu_graph(sample_count, test_size, layer_size1, layer_size2, epochs, learning_rate, verbose, random_state)\n",
        "  accuracies.append(accuracy)\n",
        "\n",
        "plt.plot(samples, accuracies)\n",
        "plt.title(\"Accuracy by Sample count\")\n",
        "plt.xlabel(\"Sample count in 1000s\")\n",
        "plt.ylabel(\"Accuracy\")\n",
        "plt.show()"
      ]
    },
    {
      "cell_type": "code",
      "source": [
        "def test_tanh_graph(sample_count: int,\n",
        "         test_size: float,\n",
        "         layer_size1: int,\n",
        "         layer_size2: int,\n",
        "         epochs: int,\n",
        "         learning_rate: float,\n",
        "         verbose: bool,\n",
        "         random_state: int):\n",
        "    MNIST = fetch_openml('mnist_784', version=1)\n",
        "    x, y = np.array(MNIST.data)/255, np.array(MNIST.target)\n",
        "\n",
        "    n = sample_count\n",
        "    x = x[:n]\n",
        "    y = y[:n]\n",
        "\n",
        "    x = x.astype(float)\n",
        "    y = y.astype(int)\n",
        "\n",
        "    y_temp = []\n",
        "    for id in range(y.size):\n",
        "        y_temp.append([0 for _ in range(10)])\n",
        "        y_temp[-1][y[id]] = 1\n",
        "\n",
        "    y = np.array(y_temp)\n",
        "\n",
        "    x_train, x_test, y_train, y_test = train_test_split(x, y, test_size=0.1, random_state=random_state)\n",
        "\n",
        "    layers = [\n",
        "        FullyConnected(input_size=784, output_size=layer_size1),\n",
        "        Tanh(),\n",
        "        FullyConnected(input_size=layer_size1, output_size=layer_size2),\n",
        "        Tanh(),\n",
        "        FullyConnected(input_size=layer_size2, output_size=10),\n",
        "        Tanh()\n",
        "    ]\n",
        "\n",
        "    net = Network(layers, learning_rate=0.1)\n",
        "    mse = Loss(mse_loss, mse_loss_derivative)\n",
        "    net.compile(loss=mse)\n",
        "\n",
        "    for x_tr, y_tr in zip(x_train, y_train):\n",
        "        net.fit(x_tr, y_tr, epochs=epochs, learning_rate=None, verbose=verbose)\n",
        "\n",
        "    predictions = net(x_test)\n",
        "    predicted_classes = np.argmax(predictions, axis=1)\n",
        "    actual_classes = np.argmax(y_test, axis=1)\n",
        "\n",
        "    accuracy = np.mean(predicted_classes == actual_classes)\n",
        "    return accuracy"
      ],
      "metadata": {
        "id": "Omw61xgeKSTA"
      },
      "execution_count": null,
      "outputs": []
    },
    {
      "cell_type": "code",
      "source": [
        "# Graph for Tanh accuracy\n",
        "\n",
        "testing_parameters = [\n",
        "    [ 1_000, 0.1, 128, 32, 10, 0.01, False, 42],\n",
        "    [ 2_000, 0.1, 128, 32, 10, 0.01, False, 42],\n",
        "    [ 5_000, 0.1, 128, 32, 10, 0.01, False, 42],\n",
        "    [ 10_000, 0.1, 128, 32, 10, 0.01, False, 42],\n",
        "    [ 15_000, 0.1, 128, 32, 10, 0.01, False, 42],\n",
        "    [ 20_000, 0.1, 128, 32, 10, 0.01, False, 42],\n",
        "]\n",
        "samples = [1, 2, 5, 10, 15, 20]\n",
        "accuracies = []\n",
        "\n",
        "for sample_count, test_size, layer_size1, layer_size2, epochs, learning_rate, verbose, random_state in testing_parameters:\n",
        "  accuracy = test_tanh_graph(sample_count, test_size, layer_size1, layer_size2, epochs, learning_rate, verbose, random_state)\n",
        "  accuracies.append(accuracy)\n",
        "\n",
        "plt.plot(samples, accuracies)\n",
        "plt.title(\"Accuracy by Sample count\")\n",
        "plt.xlabel(\"Sample count in 1000s\")\n",
        "plt.ylabel(\"Accuracy\")\n",
        "plt.show()"
      ],
      "metadata": {
        "colab": {
          "base_uri": "https://localhost:8080/",
          "height": 472
        },
        "id": "JD0t2xvkKZNI",
        "outputId": "7386f9c2-16bc-48d2-9b51-c16fa368020e"
      },
      "execution_count": null,
      "outputs": [
        {
          "output_type": "display_data",
          "data": {
            "text/plain": [
              "<Figure size 640x480 with 1 Axes>"
            ],
            "image/png": "[encoded data removed]"
          },
          "metadata": {}
        }
      ]
    },
    {
      "cell_type": "markdown",
      "metadata": {
        "collapsed": false,
        "id": "UQ_vyk1bgTcp"
      },
      "source": [
        "# Wnioski"
      ]
    },
    {
      "cell_type": "markdown",
      "source": [
        "Wpływ funkcji aktywacji na dokładność (accuracy):\n",
        "\n",
        "\n",
        "*   Funkcja **Tanh** może osiągać dobre wyniki, szczególnie w modelach, gdzie\n",
        "dane są skalowane w zakresie [-1, 1]. Jednak jej skuteczność może być ograniczona przez problem zanikającego gradientu przy głębszych sieciach.\n",
        "*   **ReLU** wykazuje wysoką skuteczność, szczególnie w przypadku większych zestawów danych i głębszych sieci neuronowych. Dzięki eliminacji problemu zanikającego gradientu jest to powszechnie stosowana funkcja aktywacji.\n",
        "*   **LeakyReLU**, będąca modyfikacją ReLU, radzi sobie lepiej w sytuacjach, gdzie gradienty mogą wynosić 0. Może poprawiać dokładność w porównaniu do zwykłej ReLU, szczególnie w przypadku skomplikowanych problemów."
      ],
      "metadata": {
        "id": "u9I-I0kwJan8"
      }
    },
    {
      "cell_type": "markdown",
      "source": [
        "Wpływ rozmiaru próbek:\n",
        "\n",
        "\n",
        "\n",
        "*   Przy mniejszych próbkach dokładność modeli może być niestabilna. Mniejsza ilość danych może prowadzić do niedouczenia modelu i gorszych wyników dokładności.\n",
        "*   Większe próbki danych zazwyczaj prowadzą do wyższej dokładności, ponieważ model ma dostęp do większej liczby przykładów, co ułatwia trening i uogólnienie.\n",
        "\n"
      ],
      "metadata": {
        "id": "-wZst7uUJyzg"
      }
    }
  ],
  "metadata": {
    "colab": {
      "provenance": []
    },
    "kernelspec": {
      "display_name": "Python 3",
      "language": "python",
      "name": "python3"
    },
    "language_info": {
      "codemirror_mode": {
        "name": "ipython",
        "version": 2
      },
      "file_extension": ".py",
      "mimetype": "text/x-python",
      "name": "python",
      "nbconvert_exporter": "python",
      "pygments_lexer": "ipython2",
      "version": "2.7.6"
    }
  },
  "nbformat": 4,
  "nbformat_minor": 0
}